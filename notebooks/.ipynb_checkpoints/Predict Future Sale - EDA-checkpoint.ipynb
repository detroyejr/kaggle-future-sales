{
 "cells": [
  {
   "cell_type": "markdown",
   "metadata": {},
   "source": [
    "Introduction\n",
    "-----------------\n",
    "\n",
    "Description on Kaggle: You are provided with daily historical sales data. The task is to forecast the total amount of products sold in every shop for the test set. Note that the list of shops and products slightly changes every month. Creating a robust model that can handle such situations is part of the challenge."
   ]
  },
  {
   "cell_type": "code",
   "execution_count": 1,
   "metadata": {},
   "outputs": [],
   "source": [
    "from IPython.display import HTML, display\n",
    "import datetime\n",
    "import numpy as np\n",
    "import pandas as pd\n",
    "import matplotlib.pyplot as plt\n",
    "import seaborn as sns\n",
    "import dask\n",
    "from dask import delayed, compute, dataframe\n",
    "\n",
    "# Load helper functions. Cannot figure out how to import these like normal.\n",
    "%run ../src/helpers/utilities.py\n",
    "\n",
    "# Needed for inline plots.\n",
    "%matplotlib inline\n",
    "\n",
    "# Default matplotlib options.\n",
    "plt.rcParams['figure.figsize']=(10, 7)"
   ]
  },
  {
   "cell_type": "code",
   "execution_count": 2,
   "metadata": {},
   "outputs": [],
   "source": [
    "# Load the training/test data.\n",
    "train, test = pd.read_csv(\"../data/raw/sales_train.csv\"), pd.read_csv(\"../data/raw/test.csv\")\n",
    "\n",
    "# Load the external data.\n",
    "files = [\n",
    "    \"shops.csv\",\n",
    "    \"items.csv\",\n",
    "    \"item_categories.csv\",\n",
    "    \"sample_submission.csv\"\n",
    "]\n",
    "\n",
    "shops, items, item_categories, sample = [pd.read_csv(\"../data/raw/\" + file) for file in files]"
   ]
  },
  {
   "cell_type": "code",
   "execution_count": 3,
   "metadata": {},
   "outputs": [
    {
     "data": {
      "text/html": [
       "<h4>List of Columns</h4>"
      ],
      "text/plain": [
       "<IPython.core.display.HTML object>"
      ]
     },
     "metadata": {},
     "output_type": "display_data"
    },
    {
     "name": "stdout",
     "output_type": "stream",
     "text": [
      "Train:  ['date' 'date_block_num' 'shop_id' 'item_id' 'item_price' 'item_cnt_day']\n",
      "Test:  ['ID' 'shop_id' 'item_id']\n",
      "Items:  ['item_name' 'item_id' 'item_category_id']\n",
      "Item Categories:  ['item_category_name' 'item_category_id']\n",
      "Shops:  ['shop_name' 'shop_id']\n"
     ]
    }
   ],
   "source": [
    "display(HTML(\"<h4>List of Columns</h4>\"))\n",
    "print(\"Train: \", train.columns.values)\n",
    "print(\"Test: \", test.columns.values)\n",
    "print(\"Items: \", items.columns.values)\n",
    "print(\"Item Categories: \", item_categories.columns.values)\n",
    "print(\"Shops: \", shops.columns.values)"
   ]
  },
  {
   "cell_type": "markdown",
   "metadata": {},
   "source": [
    "## Exploration\n",
    "\n",
    "Our predictions should be"
   ]
  },
  {
   "cell_type": "code",
   "execution_count": 4,
   "metadata": {},
   "outputs": [
    {
     "data": {
      "text/html": [
       "<div>\n",
       "<style scoped>\n",
       "    .dataframe tbody tr th:only-of-type {\n",
       "        vertical-align: middle;\n",
       "    }\n",
       "\n",
       "    .dataframe tbody tr th {\n",
       "        vertical-align: top;\n",
       "    }\n",
       "\n",
       "    .dataframe thead th {\n",
       "        text-align: right;\n",
       "    }\n",
       "</style>\n",
       "<table border=\"1\" class=\"dataframe\">\n",
       "  <thead>\n",
       "    <tr style=\"text-align: right;\">\n",
       "      <th></th>\n",
       "      <th>date</th>\n",
       "      <th>date_block_num</th>\n",
       "      <th>shop_id</th>\n",
       "      <th>item_id</th>\n",
       "      <th>item_price</th>\n",
       "      <th>item_cnt_day</th>\n",
       "    </tr>\n",
       "  </thead>\n",
       "  <tbody>\n",
       "    <tr>\n",
       "      <th>0</th>\n",
       "      <td>02.01.2013</td>\n",
       "      <td>0</td>\n",
       "      <td>59</td>\n",
       "      <td>22154</td>\n",
       "      <td>999.00</td>\n",
       "      <td>1.0</td>\n",
       "    </tr>\n",
       "    <tr>\n",
       "      <th>1</th>\n",
       "      <td>03.01.2013</td>\n",
       "      <td>0</td>\n",
       "      <td>25</td>\n",
       "      <td>2552</td>\n",
       "      <td>899.00</td>\n",
       "      <td>1.0</td>\n",
       "    </tr>\n",
       "    <tr>\n",
       "      <th>2</th>\n",
       "      <td>05.01.2013</td>\n",
       "      <td>0</td>\n",
       "      <td>25</td>\n",
       "      <td>2552</td>\n",
       "      <td>899.00</td>\n",
       "      <td>-1.0</td>\n",
       "    </tr>\n",
       "    <tr>\n",
       "      <th>3</th>\n",
       "      <td>06.01.2013</td>\n",
       "      <td>0</td>\n",
       "      <td>25</td>\n",
       "      <td>2554</td>\n",
       "      <td>1709.05</td>\n",
       "      <td>1.0</td>\n",
       "    </tr>\n",
       "    <tr>\n",
       "      <th>4</th>\n",
       "      <td>15.01.2013</td>\n",
       "      <td>0</td>\n",
       "      <td>25</td>\n",
       "      <td>2555</td>\n",
       "      <td>1099.00</td>\n",
       "      <td>1.0</td>\n",
       "    </tr>\n",
       "  </tbody>\n",
       "</table>\n",
       "</div>"
      ],
      "text/plain": [
       "         date  date_block_num  shop_id  item_id  item_price  item_cnt_day\n",
       "0  02.01.2013               0       59    22154      999.00           1.0\n",
       "1  03.01.2013               0       25     2552      899.00           1.0\n",
       "2  05.01.2013               0       25     2552      899.00          -1.0\n",
       "3  06.01.2013               0       25     2554     1709.05           1.0\n",
       "4  15.01.2013               0       25     2555     1099.00           1.0"
      ]
     },
     "execution_count": 4,
     "metadata": {},
     "output_type": "execute_result"
    }
   ],
   "source": [
    "train.head()"
   ]
  },
  {
   "cell_type": "code",
   "execution_count": 5,
   "metadata": {},
   "outputs": [],
   "source": [
    "# Use python's native date format. Odd that this takes a few seconds to complete. Use pd.to_datetime instead.\n",
    "train[\"date\"] = pd.to_datetime(train.date, format=\"%d.%m.%Y\")\n",
    "train[\"year\"] = train.date.apply(lambda x: x.year)\n",
    "train[\"month\"] = train.date.apply(lambda x: x.month)"
   ]
  },
  {
   "cell_type": "code",
   "execution_count": 6,
   "metadata": {},
   "outputs": [
    {
     "data": {
      "text/plain": [
       "(Timestamp('2013-01-01 00:00:00'), Timestamp('2015-10-31 00:00:00'))"
      ]
     },
     "execution_count": 6,
     "metadata": {},
     "output_type": "execute_result"
    }
   ],
   "source": [
    "# What is the min and maximum dates?\n",
    "compute(delayed(min)(train.date), delayed(max)(train.date), scheduler=\"processes\", num_workers=2)"
   ]
  },
  {
   "cell_type": "markdown",
   "metadata": {},
   "source": [
    "We want to predict the total number of items sold during the next month. For this dataset, that would be November 2015."
   ]
  },
  {
   "cell_type": "code",
   "execution_count": 7,
   "metadata": {},
   "outputs": [
    {
     "data": {
      "text/plain": [
       "<matplotlib.axes._subplots.AxesSubplot at 0x7ff60444f438>"
      ]
     },
     "execution_count": 7,
     "metadata": {},
     "output_type": "execute_result"
    },
    {
     "data": {
      "image/png": "[encoded data removed]",
      "text/plain": [
       "<Figure size 432x288 with 1 Axes>"
      ]
     },
     "metadata": {
      "needs_background": "light"
     },
     "output_type": "display_data"
    }
   ],
   "source": [
    "# Top Daily Counts.\n",
    "train.item_cnt_day \\\n",
    "    .groupby(train.item_cnt_day) \\\n",
    "    .count() \\\n",
    "    .sort_values(ascending=False) \\\n",
    "    .head(10) \\\n",
    "    .plot(kind=\"bar\")"
   ]
  },
  {
   "cell_type": "markdown",
   "metadata": {},
   "source": [
    "The traning data is broken out by item and shop, so this tells us the vast majority of shops sell one kind of item per day. Now we'll calculate the counts per month."
   ]
  },
  {
   "cell_type": "code",
   "execution_count": 8,
   "metadata": {},
   "outputs": [
    {
     "data": {
      "text/plain": [
       "<matplotlib.axes._subplots.AxesSubplot at 0x7ff644894e10>"
      ]
     },
     "execution_count": 8,
     "metadata": {},
     "output_type": "execute_result"
    },
    {
     "data": {
      "image/png": "[encoded data removed]",
      "text/plain": [
       "<Figure size 432x288 with 1 Axes>"
      ]
     },
     "metadata": {
      "needs_background": "light"
     },
     "output_type": "display_data"
    }
   ],
   "source": [
    "# Top Daily Counts.\n",
    "train.item_cnt_day \\\n",
    "    .groupby(train.year) \\\n",
    "    .sum() \\\n",
    "    .sort_values(ascending=False) \\\n",
    "    .plot(kind=\"bar\")"
   ]
  },
  {
   "cell_type": "code",
   "execution_count": 9,
   "metadata": {},
   "outputs": [
    {
     "data": {
      "text/plain": [
       "<matplotlib.axes._subplots.AxesSubplot at 0x7ff644807fd0>"
      ]
     },
     "execution_count": 9,
     "metadata": {},
     "output_type": "execute_result"
    },
    {
     "data": {
      "image/png": "[encoded data removed]",
      "text/plain": [
       "<Figure size 720x360 with 1 Axes>"
      ]
     },
     "metadata": {
      "needs_background": "light"
     },
     "output_type": "display_data"
    }
   ],
   "source": [
    "# Top Daily Counts.\n",
    "fig = plt.figure(figsize=(10, 5))\n",
    "train.item_cnt_day \\\n",
    "    .groupby(train.month) \\\n",
    "    .sum() \\\n",
    "    .plot(kind=\"bar\")"
   ]
  },
  {
   "cell_type": "markdown",
   "metadata": {},
   "source": [
    "We've aleady pulled out year and month into separate columns. If we use the two columns as inputs for pd.groupby we do not retain the year, month ordering that we would expect from timeseries data. To maintain the natural datetime order, we can use the datetime method to_period.\n",
    "\n",
    "Using the pd.apply function is very slow on so many rows (6+ minutes), but we can get it to just under 4 with dask.\n",
    "\n",
    "A few quick benchmark statistics trying some different parameters:\n",
    "\n",
    "|Chunksize|Workers|Wall Time |\n",
    "|:--------|:------|:---------|\n",
    "|500      |  8    |4min 17s  |\n",
    "|500      |  10   |3min 55s  |\n",
    "|500      |  10   |4min 2s   |\n",
    "|800      |  12   |3min 53s  |\n",
    "|800      |  13   |3min 47s  |\n",
    "|1000     |  13   |3min 48s  |\n",
    "|500      |  13   |3min 46s  |\n",
    "|500      |  14   |3min 46s  |\n",
    "|600      |  14   |4min 6s   |"
   ]
  },
  {
   "cell_type": "code",
   "execution_count": 10,
   "metadata": {},
   "outputs": [
    {
     "name": "stdout",
     "output_type": "stream",
     "text": [
      "CPU times: user 6min 48s, sys: 10.9 s, total: 6min 59s\n",
      "Wall time: 7min 17s\n"
     ]
    }
   ],
   "source": [
    "%%time\n",
    "\n",
    "# Break the column into chunks and get the period.\n",
    "dates = dataframe.from_pandas(train.date, chunksize=500) \\\n",
    "    .map_partitions(lambda x: [pd.Period(x, \"M\") for x in x], meta=(\"time\", \"datetime64[ns]\")) \\\n",
    "    .compute(scheduler=\"processes\", num_workers=13)\n",
    "\n",
    "# Dates object is a list of lists so we need to unpack here.\n",
    "by_month = pd.Series([dates for dates in dates for dates in dates])\n",
    "\n",
    "train[\"by_month\"] = by_month"
   ]
  },
  {
   "cell_type": "code",
   "execution_count": 11,
   "metadata": {},
   "outputs": [
    {
     "data": {
      "text/plain": [
       "<matplotlib.axes._subplots.AxesSubplot at 0x7ff644869e80>"
      ]
     },
     "execution_count": 11,
     "metadata": {},
     "output_type": "execute_result"
    },
    {
     "data": {
      "image/png": "[encoded data removed]",
      "text/plain": [
       "<Figure size 432x288 with 1 Axes>"
      ]
     },
     "metadata": {
      "needs_background": "light"
     },
     "output_type": "display_data"
    }
   ],
   "source": [
    "# Top Daily Counts.\n",
    "train.item_cnt_day \\\n",
    "    .groupby(by_month) \\\n",
    "    .sum() \\\n",
    "    .plot(kind=\"line\")"
   ]
  },
  {
   "cell_type": "markdown",
   "metadata": {},
   "source": [
    "Seems to be a general decline in the number of items sold. Has the total dollar amount of items sold seen a general decline as well?"
   ]
  },
  {
   "cell_type": "code",
   "execution_count": 12,
   "metadata": {},
   "outputs": [
    {
     "data": {
      "text/plain": [
       "<matplotlib.axes._subplots.AxesSubplot at 0x7ff5fa69c080>"
      ]
     },
     "execution_count": 12,
     "metadata": {},
     "output_type": "execute_result"
    },
    {
     "data": {
      "image/png": "[encoded data removed]",
      "text/plain": [
       "<Figure size 432x288 with 1 Axes>"
      ]
     },
     "metadata": {
      "needs_background": "light"
     },
     "output_type": "display_data"
    }
   ],
   "source": [
    "# By Year and Month.\n",
    "(train.item_price * train.item_cnt_day) \\\n",
    "    .groupby(by_month) \\\n",
    "    .sum() \\\n",
    "    .plot(kind=\"line\")"
   ]
  },
  {
   "cell_type": "code",
   "execution_count": 13,
   "metadata": {},
   "outputs": [
    {
     "data": {
      "text/plain": [
       "<matplotlib.axes._subplots.AxesSubplot at 0x7ff5d8edbcc0>"
      ]
     },
     "execution_count": 13,
     "metadata": {},
     "output_type": "execute_result"
    },
    {
     "data": {
      "image/png": "[encoded data removed]",
      "text/plain": [
       "<Figure size 432x288 with 1 Axes>"
      ]
     },
     "metadata": {
      "needs_background": "light"
     },
     "output_type": "display_data"
    }
   ],
   "source": [
    "# By Year and Month.\n",
    "(train.item_price * train.item_cnt_day) \\\n",
    "    .groupby(by_month) \\\n",
    "    .sum() \\\n",
    "    .apply(np.log1p) \\\n",
    "    .plot(kind=\"line\")"
   ]
  },
  {
   "cell_type": "markdown",
   "metadata": {},
   "source": [
    "Overall, the total dollar amount hasn't decreased as much as you might think given the decline in sales. The plot here shows that the total dollar amount earned is much more stationary than the count by itself. It's worth testing this by training a model that is scaled by the item price. Then a third model with the $log(item * price)$."
   ]
  },
  {
   "cell_type": "code",
   "execution_count": 14,
   "metadata": {},
   "outputs": [
    {
     "name": "stdout",
     "output_type": "stream",
     "text": [
      "count:  2935849.00\n",
      "mean:  890.85\n",
      "std:  1729.80\n",
      "min:  -1.00\n",
      "25%:  249.00\n",
      "50%:  399.00\n",
      "75%:  999.00\n",
      "max:  307980.00\n"
     ]
    }
   ],
   "source": [
    "# General Description\n",
    "for key, value in train.item_price.describe().items():\n",
    "    print(key + \": \", \"{:.2f}\".format(value))"
   ]
  },
  {
   "cell_type": "markdown",
   "metadata": {},
   "source": [
    "It's odd that there's a minimum item_price of -1. How many are there?"
   ]
  },
  {
   "cell_type": "code",
   "execution_count": 15,
   "metadata": {},
   "outputs": [
    {
     "data": {
      "text/plain": [
       "1"
      ]
     },
     "execution_count": 15,
     "metadata": {},
     "output_type": "execute_result"
    }
   ],
   "source": [
    "(train.item_price < 0).sum()"
   ]
  },
  {
   "cell_type": "markdown",
   "metadata": {},
   "source": [
    "I would expect that a negative count means a return, but that would need more exploration. Any of those?"
   ]
  },
  {
   "cell_type": "code",
   "execution_count": 16,
   "metadata": {},
   "outputs": [
    {
     "data": {
      "text/plain": [
       "7356"
      ]
     },
     "execution_count": 16,
     "metadata": {},
     "output_type": "execute_result"
    }
   ],
   "source": [
    "(train.item_cnt_day < 0).sum()"
   ]
  },
  {
   "cell_type": "markdown",
   "metadata": {},
   "source": [
    "Lot more possible returns. It might be useful to create a feature counting the number of returns per month."
   ]
  },
  {
   "cell_type": "markdown",
   "metadata": {},
   "source": [
    "#### Aggregate the Training Data.\n",
    "\n",
    "The test data that's given contains three columns: a prediction id, shop id, and item id. As established above, we want to make predictions for November, 2015. First, start by aggregating the training data using year, month, date_block_num, item_id, shop_id, and item_price. Our output will contain a sum of item_cnt_day."
   ]
  },
  {
   "cell_type": "code",
   "execution_count": 17,
   "metadata": {},
   "outputs": [],
   "source": [
    "aggregate_by = [\"by_month\", \"year\", \"month\", \"date_block_num\", \"shop_id\", \"item_id\", \"item_price\"]\n",
    "\n",
    "# Create a new object. Groupby normally creates an index with each column used in an aggregate, but we discarded that with as_index.\n",
    "train_agg = train.drop(\"date\", axis=1) \\\n",
    "    .groupby(aggregate_by, as_index=False) \\\n",
    "    .sum()"
   ]
  },
  {
   "cell_type": "code",
   "execution_count": 18,
   "metadata": {},
   "outputs": [],
   "source": [
    "# Rename so that the sample submission name aggress with and our training data.\n",
    "train_agg = train_agg.rename({\"item_cnt_day\": \"item_cnt_month\"}, axis = 1)"
   ]
  },
  {
   "cell_type": "code",
   "execution_count": 19,
   "metadata": {},
   "outputs": [
    {
     "data": {
      "text/html": [
       "<div>\n",
       "<style scoped>\n",
       "    .dataframe tbody tr th:only-of-type {\n",
       "        vertical-align: middle;\n",
       "    }\n",
       "\n",
       "    .dataframe tbody tr th {\n",
       "        vertical-align: top;\n",
       "    }\n",
       "\n",
       "    .dataframe thead th {\n",
       "        text-align: right;\n",
       "    }\n",
       "</style>\n",
       "<table border=\"1\" class=\"dataframe\">\n",
       "  <thead>\n",
       "    <tr style=\"text-align: right;\">\n",
       "      <th></th>\n",
       "      <th>by_month</th>\n",
       "      <th>year</th>\n",
       "      <th>month</th>\n",
       "      <th>date_block_num</th>\n",
       "      <th>shop_id</th>\n",
       "      <th>item_id</th>\n",
       "      <th>item_price</th>\n",
       "      <th>item_cnt_month</th>\n",
       "    </tr>\n",
       "  </thead>\n",
       "  <tbody>\n",
       "    <tr>\n",
       "      <th>0</th>\n",
       "      <td>2013-01</td>\n",
       "      <td>2013</td>\n",
       "      <td>1</td>\n",
       "      <td>0</td>\n",
       "      <td>0</td>\n",
       "      <td>32</td>\n",
       "      <td>221.0</td>\n",
       "      <td>6.0</td>\n",
       "    </tr>\n",
       "    <tr>\n",
       "      <th>1</th>\n",
       "      <td>2013-01</td>\n",
       "      <td>2013</td>\n",
       "      <td>1</td>\n",
       "      <td>0</td>\n",
       "      <td>0</td>\n",
       "      <td>33</td>\n",
       "      <td>347.0</td>\n",
       "      <td>3.0</td>\n",
       "    </tr>\n",
       "    <tr>\n",
       "      <th>2</th>\n",
       "      <td>2013-01</td>\n",
       "      <td>2013</td>\n",
       "      <td>1</td>\n",
       "      <td>0</td>\n",
       "      <td>0</td>\n",
       "      <td>35</td>\n",
       "      <td>247.0</td>\n",
       "      <td>1.0</td>\n",
       "    </tr>\n",
       "    <tr>\n",
       "      <th>3</th>\n",
       "      <td>2013-01</td>\n",
       "      <td>2013</td>\n",
       "      <td>1</td>\n",
       "      <td>0</td>\n",
       "      <td>0</td>\n",
       "      <td>43</td>\n",
       "      <td>221.0</td>\n",
       "      <td>1.0</td>\n",
       "    </tr>\n",
       "    <tr>\n",
       "      <th>4</th>\n",
       "      <td>2013-01</td>\n",
       "      <td>2013</td>\n",
       "      <td>1</td>\n",
       "      <td>0</td>\n",
       "      <td>0</td>\n",
       "      <td>51</td>\n",
       "      <td>127.0</td>\n",
       "      <td>1.0</td>\n",
       "    </tr>\n",
       "  </tbody>\n",
       "</table>\n",
       "</div>"
      ],
      "text/plain": [
       "  by_month  year  month  date_block_num  shop_id  item_id  item_price  \\\n",
       "0  2013-01  2013      1               0        0       32       221.0   \n",
       "1  2013-01  2013      1               0        0       33       347.0   \n",
       "2  2013-01  2013      1               0        0       35       247.0   \n",
       "3  2013-01  2013      1               0        0       43       221.0   \n",
       "4  2013-01  2013      1               0        0       51       127.0   \n",
       "\n",
       "   item_cnt_month  \n",
       "0             6.0  \n",
       "1             3.0  \n",
       "2             1.0  \n",
       "3             1.0  \n",
       "4             1.0  "
      ]
     },
     "execution_count": 19,
     "metadata": {},
     "output_type": "execute_result"
    }
   ],
   "source": [
    "train_agg.head()"
   ]
  },
  {
   "cell_type": "markdown",
   "metadata": {},
   "source": [
    "To get this ready for training, let's convert some of our columns into categorical variables. Note: There are over 22,000 different items. This creates a lot of dummy variables and takes a while to process. Any way around this?"
   ]
  },
  {
   "cell_type": "code",
   "execution_count": 20,
   "metadata": {},
   "outputs": [],
   "source": [
    "to_categorical = [\"year\", \"month\", \"shop_id\"]\n",
    "\n",
    "for col in to_categorical:\n",
    "    train_agg[col] = train_agg[col].astype(\"category\")"
   ]
  },
  {
   "cell_type": "markdown",
   "metadata": {},
   "source": [
    "## Explore Monthly Aggregates."
   ]
  },
  {
   "cell_type": "code",
   "execution_count": 21,
   "metadata": {},
   "outputs": [
    {
     "data": {
      "image/png": "[encoded data removed]",
      "text/plain": [
       "<Figure size 720x360 with 2 Axes>"
      ]
     },
     "metadata": {
      "needs_background": "light"
     },
     "output_type": "display_data"
    }
   ],
   "source": [
    "fig, ax = plt.subplots(figsize=(10, 5), nrows=2)\n",
    "\n",
    "for i, x in enumerate([train_agg.item_cnt_month, np.log1p(train_agg.item_cnt_month[train_agg.item_cnt_month >= 0])]):\n",
    "    ax[i].hist(x)\n",
    "\n",
    "# Show.\n",
    "plt.show()"
   ]
  },
  {
   "cell_type": "code",
   "execution_count": 22,
   "metadata": {},
   "outputs": [
    {
     "data": {
      "image/png": "[encoded data removed]",
      "text/plain": [
       "<Figure size 720x360 with 2 Axes>"
      ]
     },
     "metadata": {
      "needs_background": "light"
     },
     "output_type": "display_data"
    }
   ],
   "source": [
    "fig, ax = plt.subplots(figsize=(10, 5), nrows=2)\n",
    "\n",
    "item_cnt_scaled = train_agg[\"item_cnt_month\"] * train_agg[\"item_price\"]\n",
    "\n",
    "for i, x in enumerate([item_cnt_scaled, np.log1p(item_cnt_scaled[item_cnt_scaled >= 0])]):\n",
    "    ax[i].hist(x)\n",
    "\n",
    "# Show.\n",
    "plt.show()"
   ]
  },
  {
   "cell_type": "code",
   "execution_count": 23,
   "metadata": {},
   "outputs": [
    {
     "data": {
      "text/html": [
       "<div>\n",
       "<style scoped>\n",
       "    .dataframe tbody tr th:only-of-type {\n",
       "        vertical-align: middle;\n",
       "    }\n",
       "\n",
       "    .dataframe tbody tr th {\n",
       "        vertical-align: top;\n",
       "    }\n",
       "\n",
       "    .dataframe thead th {\n",
       "        text-align: right;\n",
       "    }\n",
       "</style>\n",
       "<table border=\"1\" class=\"dataframe\">\n",
       "  <thead>\n",
       "    <tr style=\"text-align: right;\">\n",
       "      <th></th>\n",
       "      <th>item_cnt_month</th>\n",
       "    </tr>\n",
       "  </thead>\n",
       "  <tbody>\n",
       "    <tr>\n",
       "      <th>item_cnt_month</th>\n",
       "      <td>1.0</td>\n",
       "    </tr>\n",
       "  </tbody>\n",
       "</table>\n",
       "</div>"
      ],
      "text/plain": [
       "                item_cnt_month\n",
       "item_cnt_month             1.0"
      ]
     },
     "execution_count": 23,
     "metadata": {},
     "output_type": "execute_result"
    }
   ],
   "source": [
    "train_agg[[\"item_cnt_month\", \"item_price\"]].transform({\"item_cnt_month\": np.log1p}).corr()"
   ]
  },
  {
   "cell_type": "markdown",
   "metadata": {},
   "source": [
    "### Modeling\n",
    "\n",
    "Now that we have the aggregates that we need with a small set of time-series features, let's create a simple model without joining in any features from our external datasets.\n",
    "\n",
    "Since we know a few more things about our test dataset, let's start by adding some features that will help us create better predictions."
   ]
  },
  {
   "cell_type": "code",
   "execution_count": 24,
   "metadata": {},
   "outputs": [],
   "source": [
    "# Add our year dummy variable.\n",
    "test[\"year_2013\"], test[\"year_2014\"], test[\"year_2015\"] = 0, 0, 1\n",
    "\n",
    "# Add one more consecutive month.\n",
    "test[\"date_block_num\"] = max(train.date_block_num) + 1"
   ]
  },
  {
   "cell_type": "code",
   "execution_count": 25,
   "metadata": {},
   "outputs": [],
   "source": [
    "# Create a list of months and a tuple of digits. 11th digit is 1 all else 0.\n",
    "for x, y in zip(([\"month_{}\".format(i) for i in range(1, 13)]), (*tuple(0 for i in range(0, 10)), 1, 0)):\n",
    "    test[x] = y\n",
    "\n",
    "test = pd.get_dummies(test, columns=[\"shop_id\"])"
   ]
  },
  {
   "cell_type": "code",
   "execution_count": 26,
   "metadata": {},
   "outputs": [
    {
     "data": {
      "text/html": [
       "<div>\n",
       "<style scoped>\n",
       "    .dataframe tbody tr th:only-of-type {\n",
       "        vertical-align: middle;\n",
       "    }\n",
       "\n",
       "    .dataframe tbody tr th {\n",
       "        vertical-align: top;\n",
       "    }\n",
       "\n",
       "    .dataframe thead th {\n",
       "        text-align: right;\n",
       "    }\n",
       "</style>\n",
       "<table border=\"1\" class=\"dataframe\">\n",
       "  <thead>\n",
       "    <tr style=\"text-align: right;\">\n",
       "      <th></th>\n",
       "      <th>ID</th>\n",
       "      <th>item_id</th>\n",
       "      <th>year_2013</th>\n",
       "      <th>year_2014</th>\n",
       "      <th>year_2015</th>\n",
       "      <th>date_block_num</th>\n",
       "      <th>month_1</th>\n",
       "      <th>month_2</th>\n",
       "      <th>month_3</th>\n",
       "      <th>month_4</th>\n",
       "      <th>...</th>\n",
       "      <th>shop_id_48</th>\n",
       "      <th>shop_id_49</th>\n",
       "      <th>shop_id_50</th>\n",
       "      <th>shop_id_52</th>\n",
       "      <th>shop_id_53</th>\n",
       "      <th>shop_id_55</th>\n",
       "      <th>shop_id_56</th>\n",
       "      <th>shop_id_57</th>\n",
       "      <th>shop_id_58</th>\n",
       "      <th>shop_id_59</th>\n",
       "    </tr>\n",
       "  </thead>\n",
       "  <tbody>\n",
       "    <tr>\n",
       "      <th>0</th>\n",
       "      <td>0</td>\n",
       "      <td>5037</td>\n",
       "      <td>0</td>\n",
       "      <td>0</td>\n",
       "      <td>1</td>\n",
       "      <td>34</td>\n",
       "      <td>0</td>\n",
       "      <td>0</td>\n",
       "      <td>0</td>\n",
       "      <td>0</td>\n",
       "      <td>...</td>\n",
       "      <td>0</td>\n",
       "      <td>0</td>\n",
       "      <td>0</td>\n",
       "      <td>0</td>\n",
       "      <td>0</td>\n",
       "      <td>0</td>\n",
       "      <td>0</td>\n",
       "      <td>0</td>\n",
       "      <td>0</td>\n",
       "      <td>0</td>\n",
       "    </tr>\n",
       "    <tr>\n",
       "      <th>1</th>\n",
       "      <td>1</td>\n",
       "      <td>5320</td>\n",
       "      <td>0</td>\n",
       "      <td>0</td>\n",
       "      <td>1</td>\n",
       "      <td>34</td>\n",
       "      <td>0</td>\n",
       "      <td>0</td>\n",
       "      <td>0</td>\n",
       "      <td>0</td>\n",
       "      <td>...</td>\n",
       "      <td>0</td>\n",
       "      <td>0</td>\n",
       "      <td>0</td>\n",
       "      <td>0</td>\n",
       "      <td>0</td>\n",
       "      <td>0</td>\n",
       "      <td>0</td>\n",
       "      <td>0</td>\n",
       "      <td>0</td>\n",
       "      <td>0</td>\n",
       "    </tr>\n",
       "    <tr>\n",
       "      <th>2</th>\n",
       "      <td>2</td>\n",
       "      <td>5233</td>\n",
       "      <td>0</td>\n",
       "      <td>0</td>\n",
       "      <td>1</td>\n",
       "      <td>34</td>\n",
       "      <td>0</td>\n",
       "      <td>0</td>\n",
       "      <td>0</td>\n",
       "      <td>0</td>\n",
       "      <td>...</td>\n",
       "      <td>0</td>\n",
       "      <td>0</td>\n",
       "      <td>0</td>\n",
       "      <td>0</td>\n",
       "      <td>0</td>\n",
       "      <td>0</td>\n",
       "      <td>0</td>\n",
       "      <td>0</td>\n",
       "      <td>0</td>\n",
       "      <td>0</td>\n",
       "    </tr>\n",
       "    <tr>\n",
       "      <th>3</th>\n",
       "      <td>3</td>\n",
       "      <td>5232</td>\n",
       "      <td>0</td>\n",
       "      <td>0</td>\n",
       "      <td>1</td>\n",
       "      <td>34</td>\n",
       "      <td>0</td>\n",
       "      <td>0</td>\n",
       "      <td>0</td>\n",
       "      <td>0</td>\n",
       "      <td>...</td>\n",
       "      <td>0</td>\n",
       "      <td>0</td>\n",
       "      <td>0</td>\n",
       "      <td>0</td>\n",
       "      <td>0</td>\n",
       "      <td>0</td>\n",
       "      <td>0</td>\n",
       "      <td>0</td>\n",
       "      <td>0</td>\n",
       "      <td>0</td>\n",
       "    </tr>\n",
       "    <tr>\n",
       "      <th>4</th>\n",
       "      <td>4</td>\n",
       "      <td>5268</td>\n",
       "      <td>0</td>\n",
       "      <td>0</td>\n",
       "      <td>1</td>\n",
       "      <td>34</td>\n",
       "      <td>0</td>\n",
       "      <td>0</td>\n",
       "      <td>0</td>\n",
       "      <td>0</td>\n",
       "      <td>...</td>\n",
       "      <td>0</td>\n",
       "      <td>0</td>\n",
       "      <td>0</td>\n",
       "      <td>0</td>\n",
       "      <td>0</td>\n",
       "      <td>0</td>\n",
       "      <td>0</td>\n",
       "      <td>0</td>\n",
       "      <td>0</td>\n",
       "      <td>0</td>\n",
       "    </tr>\n",
       "  </tbody>\n",
       "</table>\n",
       "<p>5 rows × 60 columns</p>\n",
       "</div>"
      ],
      "text/plain": [
       "   ID  item_id  year_2013  year_2014  year_2015  date_block_num  month_1  \\\n",
       "0   0     5037          0          0          1              34        0   \n",
       "1   1     5320          0          0          1              34        0   \n",
       "2   2     5233          0          0          1              34        0   \n",
       "3   3     5232          0          0          1              34        0   \n",
       "4   4     5268          0          0          1              34        0   \n",
       "\n",
       "   month_2  month_3  month_4  ...  shop_id_48  shop_id_49  shop_id_50  \\\n",
       "0        0        0        0  ...           0           0           0   \n",
       "1        0        0        0  ...           0           0           0   \n",
       "2        0        0        0  ...           0           0           0   \n",
       "3        0        0        0  ...           0           0           0   \n",
       "4        0        0        0  ...           0           0           0   \n",
       "\n",
       "   shop_id_52  shop_id_53  shop_id_55  shop_id_56  shop_id_57  shop_id_58  \\\n",
       "0           0           0           0           0           0           0   \n",
       "1           0           0           0           0           0           0   \n",
       "2           0           0           0           0           0           0   \n",
       "3           0           0           0           0           0           0   \n",
       "4           0           0           0           0           0           0   \n",
       "\n",
       "   shop_id_59  \n",
       "0           0  \n",
       "1           0  \n",
       "2           0  \n",
       "3           0  \n",
       "4           0  \n",
       "\n",
       "[5 rows x 60 columns]"
      ]
     },
     "execution_count": 26,
     "metadata": {},
     "output_type": "execute_result"
    }
   ],
   "source": [
    "test.head()"
   ]
  },
  {
   "cell_type": "markdown",
   "metadata": {},
   "source": [
    "#### Simple Linear Model\n",
    "\n",
    "To get a feel for the problem, we'll start with a linear model and progressively add complexity."
   ]
  },
  {
   "cell_type": "code",
   "execution_count": 27,
   "metadata": {},
   "outputs": [],
   "source": [
    "from sklearn import linear_model, metrics, ensemble, preprocessing"
   ]
  },
  {
   "cell_type": "code",
   "execution_count": 28,
   "metadata": {},
   "outputs": [],
   "source": [
    "target = 'item_cnt_month'\n",
    "\n",
    "features = [\n",
    "    \"year_2015\",\n",
    "    \"year_2014\",\n",
    "    \"date_block_num\",\n",
    "    *((\"month_\" + str(i) for i in range(1, 12))),\n",
    "    *((\"shop_id_\" + str(i) for i in range(1, 59)))\n",
    "]"
   ]
  },
  {
   "cell_type": "code",
   "execution_count": 29,
   "metadata": {},
   "outputs": [],
   "source": [
    "for missing in [feature for feature in features if feature not in test]:\n",
    "    test[missing] = 0"
   ]
  },
  {
   "cell_type": "code",
   "execution_count": 30,
   "metadata": {},
   "outputs": [],
   "source": [
    "# Init\n",
    "model = linear_model.LinearRegression()\n",
    "\n",
    "# Fit.\n",
    "model.fit(y=train_agg[target], X=pd.get_dummies(train_agg)[features])\n",
    "\n",
    "# Predict on the training data.\n",
    "train_predict = model.predict(pd.get_dummies(train_agg)[features])"
   ]
  },
  {
   "cell_type": "code",
   "execution_count": 31,
   "metadata": {},
   "outputs": [
    {
     "data": {
      "text/plain": [
       "<matplotlib.axes._subplots.AxesSubplot at 0x7ff621b19a90>"
      ]
     },
     "execution_count": 31,
     "metadata": {},
     "output_type": "execute_result"
    },
    {
     "data": {
      "image/png": "[encoded data removed]",
      "text/plain": [
       "<Figure size 432x288 with 1 Axes>"
      ]
     },
     "metadata": {
      "needs_background": "light"
     },
     "output_type": "display_data"
    }
   ],
   "source": [
    "# Plot the difference\n",
    "sns.distplot(train_agg[target] - train_predict)"
   ]
  },
  {
   "cell_type": "code",
   "execution_count": 32,
   "metadata": {},
   "outputs": [
    {
     "data": {
      "text/plain": [
       "[Text(0, 0.5, 'Actual'), Text(0.5, 0, 'Predictions')]"
      ]
     },
     "execution_count": 32,
     "metadata": {},
     "output_type": "execute_result"
    },
    {
     "data": {
      "image/png": "[encoded data removed]",
      "text/plain": [
       "<Figure size 432x288 with 1 Axes>"
      ]
     },
     "metadata": {
      "needs_background": "light"
     },
     "output_type": "display_data"
    }
   ],
   "source": [
    "sns.scatterplot(x=train_predict, y=train_agg[target]) \\\n",
    "    .set(xlabel=\"Predictions\", ylabel=\"Actual\")"
   ]
  },
  {
   "cell_type": "code",
   "execution_count": 33,
   "metadata": {},
   "outputs": [
    {
     "data": {
      "text/plain": [
       "57.78737448666379"
      ]
     },
     "execution_count": 33,
     "metadata": {},
     "output_type": "execute_result"
    }
   ],
   "source": [
    "metrics.mean_squared_error(train_predict, train_agg[target])"
   ]
  },
  {
   "cell_type": "markdown",
   "metadata": {},
   "source": [
    "This model does very poorly, but there's very little variation in the test data given that we added most of the features."
   ]
  },
  {
   "cell_type": "markdown",
   "metadata": {},
   "source": [
    "#### Random Forest\n",
    "\n",
    "Now, we'll use an ensemble model and add item_id's to the mix. For this model, let's try re-aggregating while leaving out the pd.get_dummies step."
   ]
  },
  {
   "cell_type": "code",
   "execution_count": 34,
   "metadata": {},
   "outputs": [],
   "source": [
    "aggregate_by = [\"year\", \"month\", \"date_block_num\", \"shop_id\", \"item_id\", \"item_price\"]\n",
    "\n",
    "# Create a new object. Groupby normally creates an index with each aggregate, but we discarded that with as_index.\n",
    "train_agg = train.drop(\"date\", axis=1) \\\n",
    "    .groupby(aggregate_by, as_index=False) \\\n",
    "    .sum()\n",
    "\n",
    "# Rename.\n",
    "train_agg.rename({\"item_cnt_day\": \"item_cnt_month\"}, axis=1, inplace=True)\n",
    "\n",
    "# Refresh the test data.\n",
    "test = pd.read_csv(\"../data/raw/test.csv\")\n",
    "\n",
    "# Add one more consecutive month.\n",
    "test[\"date_block_num\"] = max(train.date_block_num) + 1\n",
    "\n",
    "# Add year and month.\n",
    "test[\"year\"], test[\"month\"] = 2015, 11\n",
    "\n",
    "# Convert to categorical.\n",
    "# to_categorical = [\"year\", \"month\", \"item_id\", \"shop_id\"]\n",
    "# for col in to_categorical:\n",
    "#    test[col] = test[col].astype(\"category\")"
   ]
  },
  {
   "cell_type": "markdown",
   "metadata": {},
   "source": [
    "With our linear model, we converted a few features to a OneHotEncoding equivalent. According to [this article](https://www.quora.com/What-is-one-hot-encoding-and-when-is-it-used-in-data-science), the Random Forest does not necessarily need data in this form to work correctly. So, we'll use the ordinal encoding."
   ]
  },
  {
   "cell_type": "code",
   "execution_count": 35,
   "metadata": {},
   "outputs": [],
   "source": [
    "target = 'item_cnt_month'\n",
    "\n",
    "features = [\n",
    "    \"year\",\n",
    "    \"month\",\n",
    "    \"item_id\",\n",
    "    \"shop_id\"\n",
    "]"
   ]
  },
  {
   "cell_type": "code",
   "execution_count": 36,
   "metadata": {},
   "outputs": [],
   "source": [
    "# Init.\n",
    "rf = ensemble.RandomForestRegressor(n_estimators=50)\n",
    "\n",
    "# Fit.\n",
    "rf.fit(y=train_agg[target], X=train_agg[features])\n",
    "\n",
    "# Predict.\n",
    "trpredict = rf.predict(train_agg[features])"
   ]
  },
  {
   "cell_type": "code",
   "execution_count": 37,
   "metadata": {},
   "outputs": [
    {
     "data": {
      "text/plain": [
       "<matplotlib.axes._subplots.AxesSubplot at 0x7ff5c53d2668>"
      ]
     },
     "execution_count": 37,
     "metadata": {},
     "output_type": "execute_result"
    },
    {
     "data": {
      "image/png": "[encoded data removed]",
      "text/plain": [
       "<Figure size 432x288 with 1 Axes>"
      ]
     },
     "metadata": {
      "needs_background": "light"
     },
     "output_type": "display_data"
    }
   ],
   "source": [
    "# Plot the difference\n",
    "sns.distplot(train_agg[target] - trpredict)"
   ]
  },
  {
   "cell_type": "code",
   "execution_count": 38,
   "metadata": {},
   "outputs": [
    {
     "data": {
      "text/plain": [
       "12.025077192417571"
      ]
     },
     "execution_count": 38,
     "metadata": {},
     "output_type": "execute_result"
    }
   ],
   "source": [
    "metrics.mean_squared_error(train_agg[target], trpredict)"
   ]
  },
  {
   "cell_type": "code",
   "execution_count": 39,
   "metadata": {},
   "outputs": [
    {
     "data": {
      "text/plain": [
       "[(0, 1500), Text(0, 0.5, 'Actual'), (0, 1500), Text(0.5, 0, 'Predictions')]"
      ]
     },
     "execution_count": 39,
     "metadata": {},
     "output_type": "execute_result"
    },
    {
     "data": {
      "image/png": "[encoded data removed]",
      "text/plain": [
       "<Figure size 432x288 with 1 Axes>"
      ]
     },
     "metadata": {
      "needs_background": "light"
     },
     "output_type": "display_data"
    }
   ],
   "source": [
    "sns.scatterplot(x=trpredict, y=train_agg[target]) \\\n",
    "    .set(ylim=(0, 1500), xlim=(0, 1500), xlabel=\"Predictions\", ylabel=\"Actual\")"
   ]
  },
  {
   "cell_type": "markdown",
   "metadata": {},
   "source": [
    "The model tends to overpredict in a few places, but seems to do a much better job. Now we'll try the same model but with item price."
   ]
  },
  {
   "cell_type": "code",
   "execution_count": 40,
   "metadata": {},
   "outputs": [],
   "source": [
    "target = 'item_cnt_month'\n",
    "\n",
    "features = [\n",
    "    \"year\",\n",
    "    \"month\",\n",
    "    \"item_id\",\n",
    "    \"shop_id\",\n",
    "    \"item_price\"\n",
    "]\n",
    "\n",
    "# Init.\n",
    "rf = ensemble.RandomForestRegressor(n_estimators=50)\n",
    "\n",
    "# Fit.\n",
    "rf.fit(y=train_agg[target], X=train_agg[features])\n",
    "\n",
    "# Predict.\n",
    "trpredict = rf.predict(train_agg[features])"
   ]
  },
  {
   "cell_type": "code",
   "execution_count": 41,
   "metadata": {},
   "outputs": [
    {
     "data": {
      "text/plain": [
       "3.3673614079637875"
      ]
     },
     "execution_count": 41,
     "metadata": {},
     "output_type": "execute_result"
    }
   ],
   "source": [
    "metrics.mean_squared_error(train_agg[target], trpredict)"
   ]
  },
  {
   "cell_type": "code",
   "execution_count": 42,
   "metadata": {},
   "outputs": [
    {
     "data": {
      "text/plain": [
       "[(0, 1500), Text(0, 0.5, 'Actual'), (0, 1500), Text(0.5, 0, 'Predictions')]"
      ]
     },
     "execution_count": 42,
     "metadata": {},
     "output_type": "execute_result"
    },
    {
     "data": {
      "image/png": "[encoded data removed]",
      "text/plain": [
       "<Figure size 432x288 with 1 Axes>"
      ]
     },
     "metadata": {
      "needs_background": "light"
     },
     "output_type": "display_data"
    }
   ],
   "source": [
    "sns.scatterplot(x=trpredict, y=train_agg[target]) \\\n",
    "    .set(ylim=(0, 1500), xlim=(0, 1500), xlabel=\"Predictions\", ylabel=\"Actual\")"
   ]
  },
  {
   "cell_type": "markdown",
   "metadata": {},
   "source": [
    "Quite an improvement!"
   ]
  },
  {
   "cell_type": "markdown",
   "metadata": {},
   "source": [
    "### Adding Features\n",
    "\n",
    "Join the items, shops, and item_categories to the training data."
   ]
  },
  {
   "cell_type": "code",
   "execution_count": 43,
   "metadata": {},
   "outputs": [],
   "source": [
    "# Eventually, we'll want to join in the other features and do some engineering.\n",
    "\n",
    "# Does the training data maintain it's original length.\n",
    "# original_len = len(train_agg)\n",
    "\n",
    "# Merge train and items.\n",
    "# train_agg = pd.merge(train_agg, items, how=\"left\", on=\"item_id\")\n",
    "\n",
    "# Merge train and shops\n",
    "# train_agg = pd.merge(train_agg, shops, how=\"left\", on=\"shop_id\")\n",
    "\n",
    "# Merge train and item_categories\n",
    "# train_agg = pd.merge(train_agg, item_categories, how=\"left\", on=\"item_category_id\")\n",
    "\n",
    "# Excepcted difference is 0.\n",
    "# len(train_agg) - original_len"
   ]
  }
 ],
 "metadata": {
  "kernelspec": {
   "display_name": "Python 3",
   "language": "python",
   "name": "python3"
  },
  "language_info": {
   "codemirror_mode": {
    "name": "ipython",
    "version": 3
   },
   "file_extension": ".py",
   "mimetype": "text/x-python",
   "name": "python",
   "nbconvert_exporter": "python",
   "pygments_lexer": "ipython3",
   "version": "3.7.1"
  }
 },
 "nbformat": 4,
 "nbformat_minor": 2
}
